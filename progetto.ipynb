{
 "cells": [
  {
   "cell_type": "markdown",
   "id": "5ddf4260",
   "metadata": {},
   "source": [
    "### Ricevuto in input un file in formato FASTQ di reads di lunghezza `L` costante, generare in output i tre seguenti report:\n",
    "\n",
    "- Contenuto per base:\n",
    "    - Produrre per ogni posizione `i` da 1 a `L` la proporzione di ogni base A,C,G,T nei reads in input, segnalando eventualmente la presenza di basi diverse.\n",
    "- Mediana di qualità per base:\n",
    "    - Produrre per ogni posizione `i` da 1 a `L` la il valore mediano della qualità delle reads in input\n",
    "- Media di qualità per base:\n",
    "    - Produrre per ogni posizione `i` da 1 a `L` la il valore medio della qualità delle reads in input"
   ]
  },
  {
   "cell_type": "markdown",
   "id": "8a2c9465",
   "metadata": {},
   "source": [
    "Importa `math` per alcune funzioni utili (es. `floor`)"
   ]
  },
  {
   "cell_type": "code",
   "execution_count": 1,
   "id": "489e0c91",
   "metadata": {},
   "outputs": [],
   "source": [
    "import math"
   ]
  },
  {
   "cell_type": "markdown",
   "id": "1b48dbfe",
   "metadata": {},
   "source": [
    "#### Caricamento del file"
   ]
  },
  {
   "cell_type": "code",
   "execution_count": 2,
   "id": "b5c14c62",
   "metadata": {},
   "outputs": [],
   "source": [
    "file_path = './input.fastq'"
   ]
  },
  {
   "cell_type": "markdown",
   "id": "ff5cfca6",
   "metadata": {},
   "source": [
    "#### Lettura del file in righe"
   ]
  },
  {
   "cell_type": "code",
   "execution_count": 3,
   "id": "9f52c987",
   "metadata": {},
   "outputs": [],
   "source": [
    "with open(file_path) as file:\n",
    "    lines = file.read().splitlines()"
   ]
  },
  {
   "cell_type": "code",
   "execution_count": 4,
   "id": "4912b6c7",
   "metadata": {},
   "outputs": [
    {
     "data": {
      "text/plain": [
       "['@HWUSI-EAS522:8:5:662:692#0/1',\n",
       " 'TATGGAGGCCCAACTTCTTGTATTCACAGGTTCTGC',\n",
       " '+HWUSI-EAS522:8:5:662:692#0/1',\n",
       " 'aaaa`aa`aa`]__`aa`_U[_a`^\\\\\\\\UTWZ`X^QX',\n",
       " '@HWUSI-EAS522:8:5:662:693#0/1',\n",
       " 'TCTGCCAACTTCTTATGGAGGCCTGTATTCACAGGT',\n",
       " '+HWUSI-EAS522:8:5:662:693#0/1',\n",
       " 'Aaaa`aa`aa`]__`:a`_U;_A`^\\\\\\\\UTWZ`X^QX',\n",
       " '@HWUSI-EAS522:8:5:662:694#0/1',\n",
       " 'TCTGCCAGAGGCCTGTATTCACAGGTACTTCTTATG',\n",
       " '+HWUSI-EAS522:8:5:662:694#0/1',\n",
       " 'aaaa`aa`aa`]__`aa`_u[_a`^\\\\\\\\utwz`x^QX',\n",
       " '@HWUSI-EAS522:8:5:662:695#0/1',\n",
       " 'TCGCCTGTATTCACAGGTTGCCAACTTCTTATGGAG',\n",
       " '+HWUSI-EAS522:8:5:662:695#0/1',\n",
       " 'AaaA`aa`aa`]__`:A`_U;_A`^\\\\\\\\UTWZ`X^QX']"
      ]
     },
     "execution_count": 4,
     "metadata": {},
     "output_type": "execute_result"
    }
   ],
   "source": [
    "lines\n"
   ]
  },
  {
   "cell_type": "code",
   "execution_count": 5,
   "id": "e22cd1e3",
   "metadata": {},
   "outputs": [],
   "source": [
    "number_of_sequences = math.floor(len(lines) / 4)"
   ]
  },
  {
   "cell_type": "markdown",
   "id": "b2a973fd",
   "metadata": {},
   "source": [
    "Sappiamo che le read hanno lunghezza costante `L` per cui possiamo prendere una qualsiasi delle sequenze per verificarne la lunghezza"
   ]
  },
  {
   "cell_type": "code",
   "execution_count": 6,
   "id": "ec3eb61e",
   "metadata": {},
   "outputs": [],
   "source": [
    "read_length = len(lines[1])"
   ]
  },
  {
   "cell_type": "code",
   "execution_count": 7,
   "id": "f95d9840",
   "metadata": {},
   "outputs": [],
   "source": [
    "read_and_quality = [ [(lines[read_index][index],  lines[read_index + 2][index]) for read_index in range(1, len(lines), 4)] \n",
    "                            \n",
    "                            for index in range(0, read_length)]"
   ]
  },
  {
   "cell_type": "code",
   "execution_count": 10,
   "id": "be910d6e",
   "metadata": {},
   "outputs": [
    {
     "data": {
      "text/plain": [
       "[[('T', 'a'), ('T', 'A'), ('T', 'a'), ('T', 'A')],\n",
       " [('A', 'a'), ('C', 'a'), ('C', 'a'), ('C', 'a')],\n",
       " [('T', 'a'), ('T', 'a'), ('T', 'a'), ('G', 'a')],\n",
       " [('G', 'a'), ('G', 'a'), ('G', 'a'), ('C', 'A')],\n",
       " [('G', '`'), ('C', '`'), ('C', '`'), ('C', '`')],\n",
       " [('A', 'a'), ('C', 'a'), ('C', 'a'), ('T', 'a')],\n",
       " [('G', 'a'), ('A', 'a'), ('A', 'a'), ('G', 'a')],\n",
       " [('G', '`'), ('A', '`'), ('G', '`'), ('T', '`')],\n",
       " [('C', 'a'), ('C', 'a'), ('A', 'a'), ('A', 'a')],\n",
       " [('C', 'a'), ('T', 'a'), ('G', 'a'), ('T', 'a')],\n",
       " [('C', '`'), ('T', '`'), ('G', '`'), ('T', '`')],\n",
       " [('A', ']'), ('C', ']'), ('C', ']'), ('C', ']')],\n",
       " [('A', '_'), ('T', '_'), ('C', '_'), ('A', '_')],\n",
       " [('C', '_'), ('T', '_'), ('T', '_'), ('C', '_')],\n",
       " [('T', '`'), ('A', '`'), ('G', '`'), ('A', '`')],\n",
       " [('T', 'a'), ('T', ':'), ('T', 'a'), ('G', ':')],\n",
       " [('C', 'a'), ('G', 'a'), ('A', 'a'), ('G', 'A')],\n",
       " [('T', '`'), ('G', '`'), ('T', '`'), ('T', '`')],\n",
       " [('T', '_'), ('A', '_'), ('T', '_'), ('T', '_')],\n",
       " [('G', 'U'), ('G', 'U'), ('C', 'u'), ('G', 'U')],\n",
       " [('T', '['), ('G', ';'), ('A', '['), ('C', ';')],\n",
       " [('A', '_'), ('C', '_'), ('C', '_'), ('C', '_')],\n",
       " [('T', 'a'), ('C', 'A'), ('A', 'a'), ('A', 'A')],\n",
       " [('T', '`'), ('T', '`'), ('G', '`'), ('A', '`')],\n",
       " [('C', '^'), ('G', '^'), ('G', '^'), ('C', '^')],\n",
       " [('A', '\\\\'), ('T', '\\\\'), ('T', '\\\\'), ('T', '\\\\')],\n",
       " [('C', '\\\\'), ('A', '\\\\'), ('A', '\\\\'), ('T', '\\\\')],\n",
       " [('A', 'U'), ('T', 'U'), ('C', 'u'), ('C', 'U')],\n",
       " [('G', 'T'), ('T', 'T'), ('T', 't'), ('T', 'T')],\n",
       " [('G', 'W'), ('C', 'W'), ('T', 'w'), ('T', 'W')],\n",
       " [('T', 'Z'), ('A', 'Z'), ('C', 'z'), ('A', 'Z')],\n",
       " [('T', '`'), ('C', '`'), ('T', '`'), ('T', '`')],\n",
       " [('C', 'X'), ('A', 'X'), ('T', 'x'), ('G', 'X')],\n",
       " [('T', '^'), ('G', '^'), ('A', '^'), ('G', '^')],\n",
       " [('G', 'Q'), ('G', 'Q'), ('T', 'Q'), ('A', 'Q')],\n",
       " [('C', 'X'), ('T', 'X'), ('G', 'X'), ('G', 'X')]]"
      ]
     },
     "execution_count": 10,
     "metadata": {},
     "output_type": "execute_result"
    }
   ],
   "source": [
    "read_and_quality"
   ]
  },
  {
   "cell_type": "markdown",
   "id": "5e3063cf",
   "metadata": {},
   "source": [
    "A questo è possibile iniziare ad elaborare i dati.\n",
    "Per ricavare la proporzione di ogni base è possibile utilizzare una lista di tuple.\n",
    "Ogni tupla conterrà un `Counter` per le basi `A` `C` `G` `T` e una lista con le basi diverse da `A` `C` `G` `T`"
   ]
  },
  {
   "cell_type": "code",
   "execution_count": 11,
   "id": "5f5b2bfb",
   "metadata": {},
   "outputs": [],
   "source": [
    "from collections import Counter"
   ]
  },
  {
   "cell_type": "code",
   "execution_count": 29,
   "id": "ecf4a6b9",
   "metadata": {},
   "outputs": [],
   "source": [
    "def get_base(base_info):\n",
    "    base = base_info[0]\n",
    "    return base"
   ]
  },
  {
   "cell_type": "code",
   "execution_count": 62,
   "id": "fa1f26bf",
   "metadata": {},
   "outputs": [],
   "source": [
    "proportion_dict_list = []\n",
    "for i in range(0, read_length):\n",
    "    # Inizializzare un counter vuoto aiuta successivamente nella creazione del grafico\n",
    "    counter = Counter({'A' : 0, 'C': 0, 'T': 0, 'G': 0})\n",
    "    list_for_index = read_and_quality[i];\n",
    "    converted = list(map(get_base, list_for_index))\n",
    "    other_bases = list(filter(lambda x: x not in ['A', 'T', 'C', 'G'], converted))\n",
    "    atcg_bases = list(filter(lambda x: x in ['A', 'T', 'C', 'G'], converted))\n",
    "    counter.update(atcg_bases)\n",
    "    proportion_dict_list.append((counter, other_bases))"
   ]
  },
  {
   "cell_type": "code",
   "execution_count": 63,
   "id": "e3233097",
   "metadata": {},
   "outputs": [
    {
     "data": {
      "text/plain": [
       "[(Counter({'A': 0, 'C': 0, 'T': 4, 'G': 0}), []),\n",
       " (Counter({'A': 1, 'C': 3, 'T': 0, 'G': 0}), []),\n",
       " (Counter({'A': 0, 'C': 0, 'T': 3, 'G': 1}), []),\n",
       " (Counter({'A': 0, 'C': 1, 'T': 0, 'G': 3}), []),\n",
       " (Counter({'A': 0, 'C': 3, 'T': 0, 'G': 1}), []),\n",
       " (Counter({'A': 1, 'C': 2, 'T': 1, 'G': 0}), []),\n",
       " (Counter({'A': 2, 'C': 0, 'T': 0, 'G': 2}), []),\n",
       " (Counter({'A': 1, 'C': 0, 'T': 1, 'G': 2}), []),\n",
       " (Counter({'A': 2, 'C': 2, 'T': 0, 'G': 0}), []),\n",
       " (Counter({'A': 0, 'C': 1, 'T': 2, 'G': 1}), []),\n",
       " (Counter({'A': 0, 'C': 1, 'T': 2, 'G': 1}), []),\n",
       " (Counter({'A': 1, 'C': 3, 'T': 0, 'G': 0}), []),\n",
       " (Counter({'A': 2, 'C': 1, 'T': 1, 'G': 0}), []),\n",
       " (Counter({'A': 0, 'C': 2, 'T': 2, 'G': 0}), []),\n",
       " (Counter({'A': 2, 'C': 0, 'T': 1, 'G': 1}), []),\n",
       " (Counter({'A': 0, 'C': 0, 'T': 3, 'G': 1}), []),\n",
       " (Counter({'A': 1, 'C': 1, 'T': 0, 'G': 2}), []),\n",
       " (Counter({'A': 0, 'C': 0, 'T': 3, 'G': 1}), []),\n",
       " (Counter({'A': 1, 'C': 0, 'T': 3, 'G': 0}), []),\n",
       " (Counter({'A': 0, 'C': 1, 'T': 0, 'G': 3}), []),\n",
       " (Counter({'A': 1, 'C': 1, 'T': 1, 'G': 1}), []),\n",
       " (Counter({'A': 1, 'C': 3, 'T': 0, 'G': 0}), []),\n",
       " (Counter({'A': 2, 'C': 1, 'T': 1, 'G': 0}), []),\n",
       " (Counter({'A': 1, 'C': 0, 'T': 2, 'G': 1}), []),\n",
       " (Counter({'A': 0, 'C': 2, 'T': 0, 'G': 2}), []),\n",
       " (Counter({'A': 1, 'C': 0, 'T': 3, 'G': 0}), []),\n",
       " (Counter({'A': 2, 'C': 1, 'T': 1, 'G': 0}), []),\n",
       " (Counter({'A': 1, 'C': 2, 'T': 1, 'G': 0}), []),\n",
       " (Counter({'A': 0, 'C': 0, 'T': 3, 'G': 1}), []),\n",
       " (Counter({'A': 0, 'C': 1, 'T': 2, 'G': 1}), []),\n",
       " (Counter({'A': 2, 'C': 1, 'T': 1, 'G': 0}), []),\n",
       " (Counter({'A': 0, 'C': 1, 'T': 3, 'G': 0}), []),\n",
       " (Counter({'A': 1, 'C': 1, 'T': 1, 'G': 1}), []),\n",
       " (Counter({'A': 1, 'C': 0, 'T': 1, 'G': 2}), []),\n",
       " (Counter({'A': 1, 'C': 0, 'T': 1, 'G': 2}), []),\n",
       " (Counter({'A': 0, 'C': 1, 'T': 1, 'G': 2}), [])]"
      ]
     },
     "execution_count": 63,
     "metadata": {},
     "output_type": "execute_result"
    }
   ],
   "source": [
    "proportion_dict_list"
   ]
  },
  {
   "cell_type": "markdown",
   "id": "3808694d",
   "metadata": {},
   "source": [
    "A questo punto è visualizzare il risultato con un grafico"
   ]
  },
  {
   "cell_type": "code",
   "execution_count": 64,
   "id": "c2f78e85",
   "metadata": {},
   "outputs": [],
   "source": [
    "import matplotlib.pyplot as plt"
   ]
  },
  {
   "cell_type": "code",
   "execution_count": 75,
   "id": "63cc18a3",
   "metadata": {},
   "outputs": [
    {
     "data": {
      "image/png": "[encoded data removed]",
      "text/plain": [
       "<Figure size 720x360 with 1 Axes>"
      ]
     },
     "metadata": {
      "needs_background": "light"
     },
     "output_type": "display_data"
    },
    {
     "data": {
      "image/png": "[encoded data removed]",
      "text/plain": [
       "<Figure size 720x360 with 1 Axes>"
      ]
     },
     "metadata": {
      "needs_background": "light"
     },
     "output_type": "display_data"
    },
    {
     "data": {
      "image/png": "[encoded data removed]",
      "text/plain": [
       "<Figure size 720x360 with 1 Axes>"
      ]
     },
     "metadata": {
      "needs_background": "light"
     },
     "output_type": "display_data"
    }
   ],
   "source": [
    "for (index, item) in enumerate(proportion_dict_list[0:3]):\n",
    "    data = item[0]\n",
    "    basi = list(data.keys())\n",
    "    values = list(data.values())\n",
    "  \n",
    "    fig = plt.figure(figsize = (10, 5))\n",
    " \n",
    "    fig.yaxis.get_major_locator().set_params(integer=True)\n",
    "    plt.bar(basi, values, color ='blue', width = 0.1)\n",
    " \n",
    "    plt.xlabel(\"Base\")\n",
    "    plt.ylabel(\"Numero di occorrenze\")\n",
    "    plt.title(\"Proporzioni delle basi in posizione %s (%s basi diverse da A, C, G, T)\" %(index, len(item[1])))\n",
    "    plt.show()"
   ]
  },
  {
   "cell_type": "code",
   "execution_count": null,
   "id": "8647dc2d",
   "metadata": {},
   "outputs": [],
   "source": []
  },
  {
   "cell_type": "code",
   "execution_count": null,
   "id": "4e2b726e",
   "metadata": {},
   "outputs": [],
   "source": []
  }
 ],
 "metadata": {
  "kernelspec": {
   "display_name": "Python 3 (ipykernel)",
   "language": "python",
   "name": "python3"
  },
  "language_info": {
   "codemirror_mode": {
    "name": "ipython",
    "version": 3
   },
   "file_extension": ".py",
   "mimetype": "text/x-python",
   "name": "python",
   "nbconvert_exporter": "python",
   "pygments_lexer": "ipython3",
   "version": "3.9.12"
  }
 },
 "nbformat": 4,
 "nbformat_minor": 5
}
