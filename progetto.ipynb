{
 "cells": [
  {
   "cell_type": "markdown",
   "id": "5ddf4260",
   "metadata": {},
   "source": [
    "### Ricevuto in input un file in formato FASTQ di reads di lunghezza `L` costante, generare in output i tre seguenti report:\n",
    "\n",
    "- Contenuto per base:\n",
    "    - Produrre per ogni posizione `i` da 1 a `L` la proporzione di ogni base A,C,G,T nei reads in input, segnalando eventualmente la presenza di basi diverse.\n",
    "- Mediana di qualità per base:\n",
    "    - Produrre per ogni posizione `i` da 1 a `L` la il valore mediano della qualità delle reads in input\n",
    "- Media di qualità per base:\n",
    "    - Produrre per ogni posizione `i` da 1 a `L` la il valore medio della qualità delle reads in input"
   ]
  },
  {
   "cell_type": "markdown",
   "id": "8a2c9465",
   "metadata": {},
   "source": [
    "Importa `math` per alcune funzioni utili (es. `floor`)"
   ]
  },
  {
   "cell_type": "code",
   "execution_count": 62,
   "id": "489e0c91",
   "metadata": {},
   "outputs": [],
   "source": [
    "import math"
   ]
  },
  {
   "cell_type": "markdown",
   "id": "1b48dbfe",
   "metadata": {},
   "source": [
    "#### Caricamento del file"
   ]
  },
  {
   "cell_type": "code",
   "execution_count": 12,
   "id": "b5c14c62",
   "metadata": {},
   "outputs": [],
   "source": [
    "file_path = './input.fastq'"
   ]
  },
  {
   "cell_type": "markdown",
   "id": "ff5cfca6",
   "metadata": {},
   "source": [
    "#### Lettura del file in righe"
   ]
  },
  {
   "cell_type": "code",
   "execution_count": 13,
   "id": "9f52c987",
   "metadata": {},
   "outputs": [],
   "source": [
    "with open(file_path) as file:\n",
    "    lines = file.read().splitlines()"
   ]
  },
  {
   "cell_type": "code",
   "execution_count": 14,
   "id": "4912b6c7",
   "metadata": {},
   "outputs": [
    {
     "data": {
      "text/plain": [
       "['@HWUSI-EAS522:8:5:662:692#0/1',\n",
       " 'TATGGAGGCCCAACTTCTTGTATTCACAGGTTCTGC',\n",
       " '+HWUSI-EAS522:8:5:662:692#0/1',\n",
       " 'aaaa`aa`aa`]__`aa`_U[_a`^\\\\\\\\UTWZ`X^QX',\n",
       " '@HWUSI-EAS522:8:5:662:693#0/1',\n",
       " 'TCTGCCAACTTCTTATGGAGGCCTGTATTCACAGGT',\n",
       " '+HWUSI-EAS522:8:5:662:693#0/1',\n",
       " 'Aaaa`aa`aa`]__`:a`_U;_A`^\\\\\\\\UTWZ`X^QX',\n",
       " '@HWUSI-EAS522:8:5:662:694#0/1',\n",
       " 'TCTGCCAGAGGCCTGTATTCACAGGTACTTCTTATG',\n",
       " '+HWUSI-EAS522:8:5:662:694#0/1',\n",
       " 'aaaa`aa`aa`]__`aa`_u[_a`^\\\\\\\\utwz`x^QX',\n",
       " '@HWUSI-EAS522:8:5:662:695#0/1',\n",
       " 'TCGCCTGTATTCACAGGTTGCCAACTTCTTATGGAG',\n",
       " '+HWUSI-EAS522:8:5:662:695#0/1',\n",
       " 'AaaA`aa`aa`]__`:A`_U;_A`^\\\\\\\\UTWZ`X^QX']"
      ]
     },
     "execution_count": 14,
     "metadata": {},
     "output_type": "execute_result"
    }
   ],
   "source": [
    "lines\n"
   ]
  },
  {
   "cell_type": "code",
   "execution_count": 64,
   "id": "e22cd1e3",
   "metadata": {},
   "outputs": [],
   "source": [
    "number_of_sequences = math.floor(len(lines) / 4)"
   ]
  },
  {
   "cell_type": "markdown",
   "id": "b2a973fd",
   "metadata": {},
   "source": [
    "Sappiamo che le read hanno lunghezza costante `L` per cui possiamo prendere una qualsiasi delle sequenze per verificarne la lunghezza"
   ]
  },
  {
   "cell_type": "code",
   "execution_count": 67,
   "id": "ec3eb61e",
   "metadata": {},
   "outputs": [],
   "source": [
    "read_length = len(lines[1])"
   ]
  },
  {
   "cell_type": "code",
   "execution_count": 74,
   "id": "f95d9840",
   "metadata": {},
   "outputs": [],
   "source": [
    "read_and_quality = [ [(lines[read_index][index],  lines[read_index + 2][index]) for read_index in range(1, len(lines), 4)] \n",
    "                            \n",
    "                            for index in range(0, read_length)]"
   ]
  },
  {
   "cell_type": "code",
   "execution_count": 75,
   "id": "be910d6e",
   "metadata": {},
   "outputs": [
    {
     "data": {
      "text/plain": [
       "[[('T', 'a'), ('T', 'A'), ('T', 'a'), ('T', 'A')],\n",
       " [('A', 'a'), ('C', 'a'), ('C', 'a'), ('C', 'a')],\n",
       " [('T', 'a'), ('T', 'a'), ('T', 'a'), ('G', 'a')],\n",
       " [('G', 'a'), ('G', 'a'), ('G', 'a'), ('C', 'A')],\n",
       " [('G', '`'), ('C', '`'), ('C', '`'), ('C', '`')],\n",
       " [('A', 'a'), ('C', 'a'), ('C', 'a'), ('T', 'a')],\n",
       " [('G', 'a'), ('A', 'a'), ('A', 'a'), ('G', 'a')],\n",
       " [('G', '`'), ('A', '`'), ('G', '`'), ('T', '`')],\n",
       " [('C', 'a'), ('C', 'a'), ('A', 'a'), ('A', 'a')],\n",
       " [('C', 'a'), ('T', 'a'), ('G', 'a'), ('T', 'a')],\n",
       " [('C', '`'), ('T', '`'), ('G', '`'), ('T', '`')],\n",
       " [('A', ']'), ('C', ']'), ('C', ']'), ('C', ']')],\n",
       " [('A', '_'), ('T', '_'), ('C', '_'), ('A', '_')],\n",
       " [('C', '_'), ('T', '_'), ('T', '_'), ('C', '_')],\n",
       " [('T', '`'), ('A', '`'), ('G', '`'), ('A', '`')],\n",
       " [('T', 'a'), ('T', ':'), ('T', 'a'), ('G', ':')],\n",
       " [('C', 'a'), ('G', 'a'), ('A', 'a'), ('G', 'A')],\n",
       " [('T', '`'), ('G', '`'), ('T', '`'), ('T', '`')],\n",
       " [('T', '_'), ('A', '_'), ('T', '_'), ('T', '_')],\n",
       " [('G', 'U'), ('G', 'U'), ('C', 'u'), ('G', 'U')],\n",
       " [('T', '['), ('G', ';'), ('A', '['), ('C', ';')],\n",
       " [('A', '_'), ('C', '_'), ('C', '_'), ('C', '_')],\n",
       " [('T', 'a'), ('C', 'A'), ('A', 'a'), ('A', 'A')],\n",
       " [('T', '`'), ('T', '`'), ('G', '`'), ('A', '`')],\n",
       " [('C', '^'), ('G', '^'), ('G', '^'), ('C', '^')],\n",
       " [('A', '\\\\'), ('T', '\\\\'), ('T', '\\\\'), ('T', '\\\\')],\n",
       " [('C', '\\\\'), ('A', '\\\\'), ('A', '\\\\'), ('T', '\\\\')],\n",
       " [('A', 'U'), ('T', 'U'), ('C', 'u'), ('C', 'U')],\n",
       " [('G', 'T'), ('T', 'T'), ('T', 't'), ('T', 'T')],\n",
       " [('G', 'W'), ('C', 'W'), ('T', 'w'), ('T', 'W')],\n",
       " [('T', 'Z'), ('A', 'Z'), ('C', 'z'), ('A', 'Z')],\n",
       " [('T', '`'), ('C', '`'), ('T', '`'), ('T', '`')],\n",
       " [('C', 'X'), ('A', 'X'), ('T', 'x'), ('G', 'X')],\n",
       " [('T', '^'), ('G', '^'), ('A', '^'), ('G', '^')],\n",
       " [('G', 'Q'), ('G', 'Q'), ('T', 'Q'), ('A', 'Q')],\n",
       " [('C', 'X'), ('T', 'X'), ('G', 'X'), ('G', 'X')]]"
      ]
     },
     "execution_count": 75,
     "metadata": {},
     "output_type": "execute_result"
    }
   ],
   "source": [
    "read_and_quality"
   ]
  },
  {
   "cell_type": "code",
   "execution_count": 46,
   "id": "d7cc45f5",
   "metadata": {},
   "outputs": [
    {
     "data": {
      "text/plain": [
       "144"
      ]
     },
     "execution_count": 46,
     "metadata": {},
     "output_type": "execute_result"
    }
   ],
   "source": [
    "len(read_and_quality)"
   ]
  },
  {
   "cell_type": "code",
   "execution_count": null,
   "id": "fa1f26bf",
   "metadata": {},
   "outputs": [],
   "source": []
  }
 ],
 "metadata": {
  "kernelspec": {
   "display_name": "Python 3 (ipykernel)",
   "language": "python",
   "name": "python3"
  },
  "language_info": {
   "codemirror_mode": {
    "name": "ipython",
    "version": 3
   },
   "file_extension": ".py",
   "mimetype": "text/x-python",
   "name": "python",
   "nbconvert_exporter": "python",
   "pygments_lexer": "ipython3",
   "version": "3.9.12"
  }
 },
 "nbformat": 4,
 "nbformat_minor": 5
}
